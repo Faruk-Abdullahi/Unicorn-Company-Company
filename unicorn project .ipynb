{
 "cells": [
  {
   "cell_type": "code",
   "execution_count": 1,
   "id": "8d6d2641",
   "metadata": {},
   "outputs": [
    {
     "name": "stdout",
     "output_type": "stream",
     "text": [
      "42\n"
     ]
    }
   ],
   "source": [
    "a = 12\n",
    "b = 30\n",
    "print(a + b)"
   ]
  },
  {
   "cell_type": "code",
   "execution_count": 4,
   "id": "b20c5e02",
   "metadata": {},
   "outputs": [
    {
     "name": "stdout",
     "output_type": "stream",
     "text": [
      "My wife\n"
     ]
    }
   ],
   "source": [
    "Naimat = 'My wife'\n",
    "print(Naimat)"
   ]
  },
  {
   "cell_type": "code",
   "execution_count": 5,
   "id": "3707a123",
   "metadata": {},
   "outputs": [
    {
     "name": "stdout",
     "output_type": "stream",
     "text": [
      "Hallo my friends\n"
     ]
    }
   ],
   "source": [
    "txt = 'Hallo my friends'\n",
    "print(txt)"
   ]
  },
  {
   "cell_type": "code",
   "execution_count": 6,
   "id": "ac4bef6c",
   "metadata": {},
   "outputs": [
    {
     "name": "stdout",
     "output_type": "stream",
     "text": [
      " 3 months ago i was in Dubai\n"
     ]
    }
   ],
   "source": [
    "txt1 = ' 3 months ago i was in Dubai'\n",
    "print(txt1)"
   ]
  },
  {
   "cell_type": "code",
   "execution_count": null,
   "id": "bea68357",
   "metadata": {},
   "outputs": [],
   "source": [
    "first_name = input('What is your first name'"
   ]
  },
  {
   "cell_type": "code",
   "execution_count": 1,
   "id": "76af42be",
   "metadata": {},
   "outputs": [
    {
     "name": "stdout",
     "output_type": "stream",
     "text": [
      "the sky is blue\n"
     ]
    }
   ],
   "source": [
    "## print function \n",
    "print('the sky is blue')"
   ]
  },
  {
   "cell_type": "code",
   "execution_count": null,
   "id": "4fe0b3c8",
   "metadata": {},
   "outputs": [],
   "source": [
    "# exemple\n",
    "\n",
    "name = 'chritiana'\n",
    "age = 30\n",
    "height"
   ]
  },
  {
   "cell_type": "code",
   "execution_count": null,
   "id": "2d2fb63c",
   "metadata": {},
   "outputs": [],
   "source": []
  },
  {
   "cell_type": "code",
   "execution_count": 4,
   "id": "5a9ef9ef",
   "metadata": {},
   "outputs": [
    {
     "name": "stdout",
     "output_type": "stream",
     "text": [
      "python\n"
     ]
    }
   ],
   "source": [
    "## INDEXING AND SLICING\n",
    "\n",
    "#SLICING - slice() it returns a slice object that is used to slice any sequence(strings, tople, or a range or list)\n",
    "\n",
    "wux = 'python programming class'\n",
    "\n",
    "# i need to get a slice object, to get a slice object for 'python'\n",
    "\n",
    "slice_wux = slice(6)\n",
    "print(wux[slice_wux])\n",
    "\n"
   ]
  },
  {
   "cell_type": "code",
   "execution_count": 6,
   "id": "3327066a",
   "metadata": {},
   "outputs": [
    {
     "name": "stdout",
     "output_type": "stream",
     "text": [
      "programming\n"
     ]
    }
   ],
   "source": [
    "\n",
    "\n",
    "# slice (start, end, step) # if the step is not indicated, it means  by default is 1\n",
    "\n",
    "wux = 'python programming class'\n",
    "\n",
    "# to get slice object for 'programming'\n",
    "\n",
    "slice_wux2 = slice(7,18)\n",
    "print(wux[slice_wux2])\n"
   ]
  },
  {
   "cell_type": "code",
   "execution_count": 7,
   "id": "d8798939",
   "metadata": {},
   "outputs": [
    {
     "name": "stdout",
     "output_type": "stream",
     "text": [
      "t\n"
     ]
    }
   ],
   "source": [
    "# Breadknife # (start : end: step) [start : end:]\n",
    "\n",
    "\n",
    "r = 'football'\n",
    "print(r[3])"
   ]
  },
  {
   "cell_type": "code",
   "execution_count": 8,
   "id": "a245ab4b",
   "metadata": {},
   "outputs": [
    {
     "name": "stdout",
     "output_type": "stream",
     "text": [
      "ball\n"
     ]
    }
   ],
   "source": [
    "print(r[4:8])"
   ]
  },
  {
   "cell_type": "code",
   "execution_count": 9,
   "id": "6eb5f12a",
   "metadata": {},
   "outputs": [
    {
     "name": "stdout",
     "output_type": "stream",
     "text": [
      "ball\n"
     ]
    }
   ],
   "source": [
    "print(r[4:])"
   ]
  },
  {
   "cell_type": "code",
   "execution_count": null,
   "id": "0b1bc42b",
   "metadata": {},
   "outputs": [],
   "source": [
    "print(r)"
   ]
  },
  {
   "cell_type": "code",
   "execution_count": 16,
   "id": "dc36cb6e",
   "metadata": {},
   "outputs": [
    {
     "name": "stdout",
     "output_type": "stream",
     "text": [
      "programming\n"
     ]
    }
   ],
   "source": [
    "#breadknife \n",
    "\n",
    "#extract programming from variable wux\n",
    "\n",
    "print(wux[7:18])"
   ]
  },
  {
   "cell_type": "code",
   "execution_count": 19,
   "id": "ffdae42f",
   "metadata": {},
   "outputs": [
    {
     "ename": "SyntaxError",
     "evalue": "invalid syntax (2308009779.py, line 2)",
     "output_type": "error",
     "traceback": [
      "\u001b[1;36m  Cell \u001b[1;32mIn[19], line 2\u001b[1;36m\u001b[0m\n\u001b[1;33m    '''''' it can be writen using curly bracket, and it has keys and values. it can omly be changed\u001b[0m\n\u001b[1;37m           ^\u001b[0m\n\u001b[1;31mSyntaxError\u001b[0m\u001b[1;31m:\u001b[0m invalid syntax\n"
     ]
    }
   ],
   "source": [
    "# Dictionary - it is used to store data values in key ordered parts - abbreviated word is 'dict' \n",
    "'''''' it can be writen using curly bracket, and it has keys and values. it can omly be changed\n",
    "\n",
    "ordered but not duplicated ''\n",
    "\n",
    "x_dict = {'car_brand': 'ford', 'car_model': 'mustang', 'year': 2020}\n",
    "print(x_dict)"
   ]
  },
  {
   "cell_type": "code",
   "execution_count": 20,
   "id": "2dbcd45e",
   "metadata": {},
   "outputs": [
    {
     "ename": "NameError",
     "evalue": "name 'x_dict' is not defined",
     "output_type": "error",
     "traceback": [
      "\u001b[1;31m---------------------------------------------------------------------------\u001b[0m",
      "\u001b[1;31mNameError\u001b[0m                                 Traceback (most recent call last)",
      "Cell \u001b[1;32mIn[20], line 1\u001b[0m\n\u001b[1;32m----> 1\u001b[0m \u001b[38;5;28mprint\u001b[39m(x_dict)\n",
      "\u001b[1;31mNameError\u001b[0m: name 'x_dict' is not defined"
     ]
    }
   ],
   "source": [
    "print(x_dict )"
   ]
  },
  {
   "cell_type": "code",
   "execution_count": null,
   "id": "4bd42336",
   "metadata": {},
   "outputs": [],
   "source": [
    "x_dict = {'car_brand': 'ford', 'car_model': 'mustang', 'year': 2020}\n",
    "print(x_dict)"
   ]
  },
  {
   "cell_type": "code",
   "execution_count": 1,
   "id": "a2a7e77e",
   "metadata": {},
   "outputs": [
    {
     "ename": "SyntaxError",
     "evalue": "unterminated string literal (detected at line 3) (3999384790.py, line 3)",
     "output_type": "error",
     "traceback": [
      "\u001b[1;36m  Cell \u001b[1;32mIn[1], line 3\u001b[1;36m\u001b[0m\n\u001b[1;33m    print(f'add {a} and b {b}' is (a + b)', )\u001b[0m\n\u001b[1;37m                                         ^\u001b[0m\n\u001b[1;31mSyntaxError\u001b[0m\u001b[1;31m:\u001b[0m unterminated string literal (detected at line 3)\n"
     ]
    }
   ],
   "source": [
    "a = 12\n",
    "b = 30\n",
    "print(f'add {a} and b {b}' is (a + b)', )"
   ]
  },
  {
   "cell_type": "code",
   "execution_count": null,
   "id": "da96d862",
   "metadata": {},
   "outputs": [],
   "source": [
    "## loop - \n",
    "- it is used to itrate over a sequence"
   ]
  },
  {
   "cell_type": "code",
   "execution_count": 3,
   "id": "05f24f39",
   "metadata": {},
   "outputs": [
    {
     "name": "stdout",
     "output_type": "stream",
     "text": [
      "['lion', 'Car', 'sheep', 'Ram', 'Elephant']\n"
     ]
    }
   ],
   "source": [
    "list_num = ['lion', 'Car', 'sheep', 'Ram', 'Elephant']\n",
    "print(list_num)"
   ]
  },
  {
   "cell_type": "code",
   "execution_count": 4,
   "id": "5ff4aaaf",
   "metadata": {},
   "outputs": [
    {
     "data": {
      "text/plain": [
       "list"
      ]
     },
     "execution_count": 4,
     "metadata": {},
     "output_type": "execute_result"
    }
   ],
   "source": [
    "type(list_num)"
   ]
  },
  {
   "cell_type": "code",
   "execution_count": 2,
   "id": "89b2b27f",
   "metadata": {},
   "outputs": [
    {
     "name": "stdout",
     "output_type": "stream",
     "text": [
      "['lion', 'sheep', 'Elephant']\n"
     ]
    }
   ],
   "source": [
    "list_num1 = ['lion', 'Car', 'sheep', 'Ram', 'Elephant']\n",
    "\n",
    "def short(x):\n",
    "    return len(x) > 3\n",
    "names_short =filter(short, list_num1)\n",
    "print(list(names_short))"
   ]
  },
  {
   "cell_type": "markdown",
   "id": "4a8e79b3",
   "metadata": {},
   "source": []
  },
  {
   "cell_type": "code",
   "execution_count": 12,
   "id": "bae2d1e4",
   "metadata": {},
   "outputs": [
    {
     "name": "stdout",
     "output_type": "stream",
     "text": [
      "My name is Faruk, and i am 38 my height is 1.5\n"
     ]
    }
   ],
   "source": [
    "name = 'Faruk'\n",
    "age = 38\n",
    "height = 1.5\n",
    "\n",
    "print(f'My name is {name}, and i am {age} my height is {height}')"
   ]
  },
  {
   "cell_type": "code",
   "execution_count": 3,
   "id": "68fbe314",
   "metadata": {},
   "outputs": [],
   "source": [
    "#Numpy\n",
    "import numpy as np"
   ]
  },
  {
   "cell_type": "code",
   "execution_count": 4,
   "id": "5bb5bfb9",
   "metadata": {},
   "outputs": [
    {
     "name": "stdout",
     "output_type": "stream",
     "text": [
      "[1 2 3 4 5 6 7 8]\n"
     ]
    }
   ],
   "source": [
    "arr = np.array([1,2,3,4,5,6,7,8])\n",
    "print(arr)"
   ]
  },
  {
   "cell_type": "code",
   "execution_count": null,
   "id": "68f7615e",
   "metadata": {},
   "outputs": [],
   "source": [
    "### shape, attribute and method \n",
    "-- shapes gives the number of column and rows and an array or dataframe. (R,C)\n",
    "\n",
    "\n",
    "-- Attribute - it gives the metadata information about an object, and no bracket. eg .shapes .dtype .column .index, .values etc\n",
    "\n",
    "\n",
    "-- Method - is a function associated with object, and it has bracket eg:  .append(), .index(), .capitalize(), .replace(), etc \n",
    "    \n",
    "    \n",
    "    "
   ]
  },
  {
   "cell_type": "code",
   "execution_count": null,
   "id": "44c9a0de",
   "metadata": {},
   "outputs": [],
   "source": []
  },
  {
   "cell_type": "code",
   "execution_count": null,
   "id": "3ef09800",
   "metadata": {},
   "outputs": [],
   "source": []
  },
  {
   "cell_type": "code",
   "execution_count": 5,
   "id": "f57a5d10",
   "metadata": {},
   "outputs": [
    {
     "data": {
      "text/plain": [
       "numpy.ndarray"
      ]
     },
     "execution_count": 5,
     "metadata": {},
     "output_type": "execute_result"
    }
   ],
   "source": [
    "type(arr)"
   ]
  },
  {
   "cell_type": "code",
   "execution_count": 10,
   "id": "5db52b88",
   "metadata": {},
   "outputs": [
    {
     "name": "stdout",
     "output_type": "stream",
     "text": [
      "[[1 2 3]\n",
      " [4 5 6]]\n"
     ]
    }
   ],
   "source": [
    "arr1 = np.array([[1,2,3],[4,5,6]])\n",
    "print(arr1)"
   ]
  },
  {
   "cell_type": "code",
   "execution_count": 11,
   "id": "158b1681",
   "metadata": {},
   "outputs": [
    {
     "data": {
      "text/plain": [
       "(2, 3)"
      ]
     },
     "execution_count": 11,
     "metadata": {},
     "output_type": "execute_result"
    }
   ],
   "source": [
    "arr1.shape"
   ]
  },
  {
   "cell_type": "code",
   "execution_count": 12,
   "id": "5e3e0a43",
   "metadata": {},
   "outputs": [
    {
     "data": {
      "text/plain": [
       "6"
      ]
     },
     "execution_count": 12,
     "metadata": {},
     "output_type": "execute_result"
    }
   ],
   "source": [
    "arr1.size"
   ]
  },
  {
   "cell_type": "code",
   "execution_count": 18,
   "id": "ceba7c28",
   "metadata": {},
   "outputs": [
    {
     "data": {
      "text/plain": [
       "array([  0.,  25.,  50.,  75., 100.])"
      ]
     },
     "execution_count": 18,
     "metadata": {},
     "output_type": "execute_result"
    }
   ],
   "source": [
    "#linspace() - it is an inbuilt function in numpy that creats sequences of evenly spaced arrays array, i.e Row*Column\n",
    "\n",
    "np.linspace(0, 100, 5)\n",
    "\n"
   ]
  },
  {
   "cell_type": "code",
   "execution_count": 19,
   "id": "3126d5c2",
   "metadata": {},
   "outputs": [
    {
     "ename": "SyntaxError",
     "evalue": "invalid syntax (1145859918.py, line 3)",
     "output_type": "error",
     "traceback": [
      "\u001b[1;36m  Cell \u001b[1;32mIn[19], line 3\u001b[1;36m\u001b[0m\n\u001b[1;33m    random works with .rand(), .randn(), .randint() to generate numbers.\u001b[0m\n\u001b[1;37m           ^\u001b[0m\n\u001b[1;31mSyntaxError\u001b[0m\u001b[1;31m:\u001b[0m invalid syntax\n"
     ]
    }
   ],
   "source": [
    "## Random- we can randomly generate numbers using numpy\n",
    "\n",
    "random works with .rand(), .randn(), .randint() to generate numbers. \n",
    "\n",
    "- rand() is an inbuit method that returns random float numbers between 0 and 1\n",
    "\n",
    "- randn() it is an inbuilt method that create an array of specified shape and fills it witha random values as per standard normal distribution\n",
    "\n",
    "\n",
    "- randint() it is an inbuilt method tht  returns an interger number selected element from the specified range. \n"
   ]
  },
  {
   "cell_type": "code",
   "execution_count": 20,
   "id": "99eee63d",
   "metadata": {},
   "outputs": [
    {
     "data": {
      "text/plain": [
       "array([0.49625898, 0.72239345, 0.06090943, 0.31399541, 0.09227269,\n",
       "       0.85654612, 0.20870457, 0.73289688, 0.605791  , 0.25254251])"
      ]
     },
     "execution_count": 20,
     "metadata": {},
     "output_type": "execute_result"
    }
   ],
   "source": [
    "np.random.rand(10)\n"
   ]
  },
  {
   "cell_type": "code",
   "execution_count": 21,
   "id": "1dc7645a",
   "metadata": {},
   "outputs": [
    {
     "data": {
      "text/plain": [
       "array([-0.04939766, -0.71071683,  1.12983794, -0.37482129, -0.55544354,\n",
       "        2.31009551,  0.85483713,  1.29229697,  0.6711816 , -1.95395813])"
      ]
     },
     "execution_count": 21,
     "metadata": {},
     "output_type": "execute_result"
    }
   ],
   "source": [
    "np.random.randn(10)"
   ]
  },
  {
   "cell_type": "code",
   "execution_count": 24,
   "id": "37eaa1cd",
   "metadata": {},
   "outputs": [
    {
     "data": {
      "text/plain": [
       "6"
      ]
     },
     "execution_count": 24,
     "metadata": {},
     "output_type": "execute_result"
    }
   ],
   "source": [
    "np.random.randint(2, 10)"
   ]
  },
  {
   "cell_type": "code",
   "execution_count": null,
   "id": "626933cf",
   "metadata": {},
   "outputs": [],
   "source": [
    "# indexing in numpy"
   ]
  },
  {
   "cell_type": "code",
   "execution_count": 25,
   "id": "b5598895",
   "metadata": {},
   "outputs": [
    {
     "name": "stdout",
     "output_type": "stream",
     "text": [
      "[[1 2 3]\n",
      " [4 5 6]]\n"
     ]
    }
   ],
   "source": [
    "print(arr1)"
   ]
  },
  {
   "cell_type": "code",
   "execution_count": 26,
   "id": "7e1381c9",
   "metadata": {},
   "outputs": [
    {
     "data": {
      "text/plain": [
       "array([1, 2, 3])"
      ]
     },
     "execution_count": 26,
     "metadata": {},
     "output_type": "execute_result"
    }
   ],
   "source": [
    "# indexing and slicing\n",
    "\n",
    "arr1[0] # focusing on the row"
   ]
  },
  {
   "cell_type": "code",
   "execution_count": 27,
   "id": "769cf2e8",
   "metadata": {},
   "outputs": [
    {
     "data": {
      "text/plain": [
       "array([4, 5, 6])"
      ]
     },
     "execution_count": 27,
     "metadata": {},
     "output_type": "execute_result"
    }
   ],
   "source": [
    "arr1[1]"
   ]
  },
  {
   "cell_type": "code",
   "execution_count": 46,
   "id": "d307a10f",
   "metadata": {},
   "outputs": [
    {
     "name": "stdout",
     "output_type": "stream",
     "text": [
      "[[ 1  2  3]\n",
      " [ 4  5  6]\n",
      " [ 7  8  9]\n",
      " [ 3 11 12]]\n"
     ]
    }
   ],
   "source": [
    "arr2 = np.array([[1, 2, 3], [4, 5, 6], [7, 8, 9], [3,11,12]])\n",
    "print(arr2)"
   ]
  },
  {
   "cell_type": "code",
   "execution_count": 31,
   "id": "4a907ed1",
   "metadata": {},
   "outputs": [
    {
     "data": {
      "text/plain": [
       "numpy.ndarray"
      ]
     },
     "execution_count": 31,
     "metadata": {},
     "output_type": "execute_result"
    }
   ],
   "source": [
    "type(arr2)"
   ]
  },
  {
   "cell_type": "code",
   "execution_count": 43,
   "id": "53a183b1",
   "metadata": {},
   "outputs": [
    {
     "data": {
      "text/plain": [
       "(4, 3)"
      ]
     },
     "execution_count": 43,
     "metadata": {},
     "output_type": "execute_result"
    }
   ],
   "source": [
    "arr2.shape"
   ]
  },
  {
   "cell_type": "code",
   "execution_count": 33,
   "id": "46b69117",
   "metadata": {},
   "outputs": [
    {
     "data": {
      "text/plain": [
       "9"
      ]
     },
     "execution_count": 33,
     "metadata": {},
     "output_type": "execute_result"
    }
   ],
   "source": [
    "arr2.size"
   ]
  },
  {
   "cell_type": "code",
   "execution_count": 34,
   "id": "ee0c6c4e",
   "metadata": {},
   "outputs": [
    {
     "data": {
      "text/plain": [
       "array([2, 5, 8])"
      ]
     },
     "execution_count": 34,
     "metadata": {},
     "output_type": "execute_result"
    }
   ],
   "source": [
    "# arr2[start: end]\n",
    "\n",
    "arr2[:,1] # focus on the column\n"
   ]
  },
  {
   "cell_type": "code",
   "execution_count": 36,
   "id": "fcd09a3d",
   "metadata": {},
   "outputs": [
    {
     "data": {
      "text/plain": [
       "array([[4, 5, 6],\n",
       "       [7, 8, 9]])"
      ]
     },
     "execution_count": 36,
     "metadata": {},
     "output_type": "execute_result"
    }
   ],
   "source": [
    "arr2[1:, ]"
   ]
  },
  {
   "cell_type": "code",
   "execution_count": 37,
   "id": "8fdaedaf",
   "metadata": {},
   "outputs": [
    {
     "data": {
      "text/plain": [
       "array([8])"
      ]
     },
     "execution_count": 37,
     "metadata": {},
     "output_type": "execute_result"
    }
   ],
   "source": [
    "arr2[2:, 1]"
   ]
  },
  {
   "cell_type": "code",
   "execution_count": 38,
   "id": "e7c5bbbb",
   "metadata": {},
   "outputs": [
    {
     "name": "stdout",
     "output_type": "stream",
     "text": [
      "[[1 2 3]\n",
      " [4 5 6]\n",
      " [7 8 9]]\n"
     ]
    }
   ],
   "source": [
    "#Descriptive statistics sometimes called summary statistics - measure of centeral tendency (mean, median and mode)\n",
    "\n",
    "print(arr2)"
   ]
  },
  {
   "cell_type": "code",
   "execution_count": 44,
   "id": "c0da730c",
   "metadata": {},
   "outputs": [
    {
     "data": {
      "text/plain": [
       "5.333333333333333"
      ]
     },
     "execution_count": 44,
     "metadata": {},
     "output_type": "execute_result"
    }
   ],
   "source": [
    "np.mean(arr2)"
   ]
  },
  {
   "cell_type": "code",
   "execution_count": 47,
   "id": "1de8389d",
   "metadata": {},
   "outputs": [
    {
     "data": {
      "text/plain": [
       "5.5"
      ]
     },
     "execution_count": 47,
     "metadata": {},
     "output_type": "execute_result"
    }
   ],
   "source": [
    "np.median(arr2)"
   ]
  },
  {
   "cell_type": "code",
   "execution_count": 51,
   "id": "5571f932",
   "metadata": {},
   "outputs": [
    {
     "name": "stderr",
     "output_type": "stream",
     "text": [
      "C:\\Users\\FARUK MANDIBO\\AppData\\Local\\Temp\\ipykernel_7600\\3447583276.py:4: FutureWarning: Unlike other reduction functions (e.g. `skew`, `kurtosis`), the default behavior of `mode` typically preserves the axis it acts along. In SciPy 1.11.0, this behavior will change: the default value of `keepdims` will become False, the `axis` over which the statistic is taken will be eliminated, and the value None will no longer be accepted. Set `keepdims` to True or False to avoid this warning.\n",
      "  mode = stats.mode(arr)\n"
     ]
    },
    {
     "name": "stdout",
     "output_type": "stream",
     "text": [
      "ModeResult(mode=array([4]), count=array([5]))\n"
     ]
    }
   ],
   "source": [
    "from scipy import stats\n",
    "\n",
    "arr = [1, 2, 3, 4, 5, 6, 7, 8, 9, 10, 1, 1, 1, 3, 3, 3, 4, 4, 4, 4,]\n",
    "mode = stats.mode(arr)\n",
    "print(mode)"
   ]
  },
  {
   "cell_type": "code",
   "execution_count": null,
   "id": "6670dd54",
   "metadata": {},
   "outputs": [],
   "source": [
    "### Pandas\n",
    "\n",
    "** Series ====> 1 dimention\n",
    "\n",
    "*** Dataframe =====> 2 dimension \n",
    "\n"
   ]
  },
  {
   "cell_type": "code",
   "execution_count": 52,
   "id": "1649b898",
   "metadata": {},
   "outputs": [],
   "source": [
    "import pandas as pd"
   ]
  },
  {
   "cell_type": "raw",
   "id": "f06e583b",
   "metadata": {},
   "source": [
    "# pd.Series - (index, data)\n",
    "# pd.Dataframe - (rows, columns)"
   ]
  },
  {
   "cell_type": "code",
   "execution_count": 56,
   "id": "4cbf2f5e",
   "metadata": {},
   "outputs": [
    {
     "name": "stdout",
     "output_type": "stream",
     "text": [
      "0     1\n",
      "1    11\n",
      "2    12\n",
      "3    23\n",
      "4    13\n",
      "5    14\n",
      "6     2\n",
      "7     4\n",
      "dtype: int64\n"
     ]
    }
   ],
   "source": [
    "ages =[1, 11, 12, 23, 13, 14, 2, 4]\n",
    "\n",
    "age_series = pd.Series(ages)\n",
    "print(age_series)"
   ]
  },
  {
   "cell_type": "code",
   "execution_count": 57,
   "id": "5e527355",
   "metadata": {},
   "outputs": [
    {
     "data": {
      "text/plain": [
       "pandas.core.series.Series"
      ]
     },
     "execution_count": 57,
     "metadata": {},
     "output_type": "execute_result"
    }
   ],
   "source": [
    "type(age_series)"
   ]
  },
  {
   "cell_type": "code",
   "execution_count": 58,
   "id": "0c604f46",
   "metadata": {},
   "outputs": [
    {
     "data": {
      "text/plain": [
       "13"
      ]
     },
     "execution_count": 58,
     "metadata": {},
     "output_type": "execute_result"
    }
   ],
   "source": [
    "# Indexing\n",
    "\n",
    "age_series[4]"
   ]
  },
  {
   "cell_type": "code",
   "execution_count": 59,
   "id": "90c4635c",
   "metadata": {},
   "outputs": [
    {
     "data": {
      "text/plain": [
       "array([ 1, 11, 12, 23, 13, 14,  2,  4], dtype=int64)"
      ]
     },
     "execution_count": 59,
     "metadata": {},
     "output_type": "execute_result"
    }
   ],
   "source": [
    "age_series.values"
   ]
  },
  {
   "cell_type": "code",
   "execution_count": 60,
   "id": "f28a7f4b",
   "metadata": {},
   "outputs": [
    {
     "data": {
      "text/plain": [
       "RangeIndex(start=0, stop=8, step=1)"
      ]
     },
     "execution_count": 60,
     "metadata": {},
     "output_type": "execute_result"
    }
   ],
   "source": [
    "age_series.index"
   ]
  },
  {
   "cell_type": "code",
   "execution_count": 62,
   "id": "168a5dfb",
   "metadata": {},
   "outputs": [
    {
     "name": "stdout",
     "output_type": "stream",
     "text": [
      "{'ford': 200, 'Toyota': 150, 'Lexus': 300, 'Jeep': 400}\n"
     ]
    }
   ],
   "source": [
    "#create a series from the dictionary \\\n",
    "\n",
    "\n",
    "car ={'ford': 200, 'Toyota': 150, 'Lexus': 300, 'Jeep': 400}\n",
    "print(car)"
   ]
  },
  {
   "cell_type": "code",
   "execution_count": 63,
   "id": "d9c0347f",
   "metadata": {},
   "outputs": [
    {
     "data": {
      "text/plain": [
       "dict"
      ]
     },
     "execution_count": 63,
     "metadata": {},
     "output_type": "execute_result"
    }
   ],
   "source": [
    "type(car)"
   ]
  },
  {
   "cell_type": "code",
   "execution_count": 64,
   "id": "51c94a7b",
   "metadata": {},
   "outputs": [
    {
     "name": "stdout",
     "output_type": "stream",
     "text": [
      "ford      200\n",
      "Toyota    150\n",
      "Lexus     300\n",
      "Jeep      400\n",
      "dtype: int64\n"
     ]
    }
   ],
   "source": [
    "car_brand = pd.Series(car)\n",
    "print(car_brand)"
   ]
  },
  {
   "cell_type": "code",
   "execution_count": 66,
   "id": "3dd4af47",
   "metadata": {},
   "outputs": [
    {
     "data": {
      "text/plain": [
       "array([200, 150, 300, 400], dtype=int64)"
      ]
     },
     "execution_count": 66,
     "metadata": {},
     "output_type": "execute_result"
    }
   ],
   "source": [
    "car_brand.values"
   ]
  },
  {
   "cell_type": "raw",
   "id": "a2176da2",
   "metadata": {},
   "source": [
    "car_brand.index"
   ]
  },
  {
   "cell_type": "code",
   "execution_count": 67,
   "id": "f41c63b1",
   "metadata": {},
   "outputs": [
    {
     "name": "stdout",
     "output_type": "stream",
     "text": [
      "1050\n"
     ]
    }
   ],
   "source": [
    "# we can perform aggregate function on series \n",
    "\n",
    "# mean(), max(), min(), count(), sum() \n",
    "\n",
    "total_car = car_brand.sum()\n",
    "print(total_car)"
   ]
  },
  {
   "cell_type": "code",
   "execution_count": 68,
   "id": "aecfc722",
   "metadata": {},
   "outputs": [
    {
     "name": "stdout",
     "output_type": "stream",
     "text": [
      "262.5\n"
     ]
    }
   ],
   "source": [
    "avg_car = car_brand.mean()\n",
    "print(avg_car)"
   ]
  },
  {
   "cell_type": "code",
   "execution_count": 69,
   "id": "73633080",
   "metadata": {},
   "outputs": [
    {
     "name": "stdout",
     "output_type": "stream",
     "text": [
      "400\n"
     ]
    }
   ],
   "source": [
    "max_car = car_brand.max()\n",
    "print(max_car)"
   ]
  },
  {
   "cell_type": "code",
   "execution_count": 70,
   "id": "1c62a9ff",
   "metadata": {},
   "outputs": [
    {
     "name": "stdout",
     "output_type": "stream",
     "text": [
      "150\n"
     ]
    }
   ],
   "source": [
    "min_car = car_brand.min()\n",
    "print(min_car)"
   ]
  },
  {
   "cell_type": "code",
   "execution_count": 71,
   "id": "f4279958",
   "metadata": {},
   "outputs": [
    {
     "name": "stdout",
     "output_type": "stream",
     "text": [
      "4\n"
     ]
    }
   ],
   "source": [
    "count_car = car_brand.count()\n",
    "print(count_car)"
   ]
  },
  {
   "cell_type": "code",
   "execution_count": 73,
   "id": "8cb030d9",
   "metadata": {},
   "outputs": [
    {
     "data": {
      "text/plain": [
       "count      4\n",
       "mean     262\n",
       "std      110\n",
       "min      150\n",
       "25%      187\n",
       "50%      250\n",
       "75%      325\n",
       "max      400\n",
       "dtype: int32"
      ]
     },
     "execution_count": 73,
     "metadata": {},
     "output_type": "execute_result"
    }
   ],
   "source": [
    "# .describe() is an inbuit method used on pandas pn to either Series or Dataframe to get summmary statistics\n",
    "\n",
    "car_brand.describe().astype(int)"
   ]
  },
  {
   "cell_type": "code",
   "execution_count": 74,
   "id": "4b7ebe01",
   "metadata": {},
   "outputs": [
    {
     "name": "stdout",
     "output_type": "stream",
     "text": [
      "{'car_brand': ['ford', 'toyota', 'lexus', 'tesla'], 'car_model': ['mustang', 'camry', 'rex340', 'spoty'], 'Year': ['2020', '2005', '2006', '2007']}\n"
     ]
    }
   ],
   "source": [
    "#Dataframe - is two dimensions (rows and column)\n",
    "\n",
    "y_dict = {'car_brand': ['ford', 'toyota', 'lexus','tesla'],\n",
    "         'car_model': ['mustang', 'camry', 'rex340', 'spoty'],\n",
    "         'Year': ['2020', '2005', '2006','2007']}\n",
    "print(y_dict)"
   ]
  },
  {
   "cell_type": "code",
   "execution_count": 75,
   "id": "b27d0088",
   "metadata": {},
   "outputs": [
    {
     "data": {
      "text/plain": [
       "dict"
      ]
     },
     "execution_count": 75,
     "metadata": {},
     "output_type": "execute_result"
    }
   ],
   "source": [
    "type(y_dict)"
   ]
  },
  {
   "cell_type": "code",
   "execution_count": 78,
   "id": "31757d9b",
   "metadata": {},
   "outputs": [
    {
     "name": "stdout",
     "output_type": "stream",
     "text": [
      "{'car_brand': ['ford', 'toyota', 'lexus', 'tesla'], 'car_model': ['mustang', 'camry', 'rex340', 'spoty'], 'Year': ['2020', '2005', '2006', '2007']}\n"
     ]
    }
   ],
   "source": [
    "print(y_dict)"
   ]
  },
  {
   "cell_type": "code",
   "execution_count": 82,
   "id": "e4df2e63",
   "metadata": {},
   "outputs": [
    {
     "ename": "AttributeError",
     "evalue": "module 'pandas' has no attribute 'Dataframe'",
     "output_type": "error",
     "traceback": [
      "\u001b[1;31m---------------------------------------------------------------------------\u001b[0m",
      "\u001b[1;31mAttributeError\u001b[0m                            Traceback (most recent call last)",
      "Cell \u001b[1;32mIn[82], line 2\u001b[0m\n\u001b[0;32m      1\u001b[0m \u001b[38;5;66;03m# for best practices, Dataframe is written as this: df\u001b[39;00m\n\u001b[1;32m----> 2\u001b[0m df \u001b[38;5;241m=\u001b[39m pd\u001b[38;5;241m.\u001b[39mDataframe()\n",
      "File \u001b[1;32m~\\anaconda3\\Lib\\site-packages\\pandas\\__init__.py:264\u001b[0m, in \u001b[0;36m__getattr__\u001b[1;34m(name)\u001b[0m\n\u001b[0;32m    260\u001b[0m     \u001b[38;5;28;01mfrom\u001b[39;00m \u001b[38;5;21;01mpandas\u001b[39;00m\u001b[38;5;21;01m.\u001b[39;00m\u001b[38;5;21;01mcore\u001b[39;00m\u001b[38;5;21;01m.\u001b[39;00m\u001b[38;5;21;01marrays\u001b[39;00m\u001b[38;5;21;01m.\u001b[39;00m\u001b[38;5;21;01msparse\u001b[39;00m \u001b[38;5;28;01mimport\u001b[39;00m SparseArray \u001b[38;5;28;01mas\u001b[39;00m _SparseArray\n\u001b[0;32m    262\u001b[0m     \u001b[38;5;28;01mreturn\u001b[39;00m _SparseArray\n\u001b[1;32m--> 264\u001b[0m \u001b[38;5;28;01mraise\u001b[39;00m \u001b[38;5;167;01mAttributeError\u001b[39;00m(\u001b[38;5;124mf\u001b[39m\u001b[38;5;124m\"\u001b[39m\u001b[38;5;124mmodule \u001b[39m\u001b[38;5;124m'\u001b[39m\u001b[38;5;124mpandas\u001b[39m\u001b[38;5;124m'\u001b[39m\u001b[38;5;124m has no attribute \u001b[39m\u001b[38;5;124m'\u001b[39m\u001b[38;5;132;01m{\u001b[39;00mname\u001b[38;5;132;01m}\u001b[39;00m\u001b[38;5;124m'\u001b[39m\u001b[38;5;124m\"\u001b[39m)\n",
      "\u001b[1;31mAttributeError\u001b[0m: module 'pandas' has no attribute 'Dataframe'"
     ]
    }
   ],
   "source": [
    "# for best practices, Dataframe is written as this: df\n",
    "df = pd.Dataframe()"
   ]
  },
  {
   "cell_type": "markdown",
   "id": "eaa60cb6",
   "metadata": {},
   "source": [
    "df_dict = pd.Dataframe(y_dict)\n",
    "print(df_dict)"
   ]
  },
  {
   "cell_type": "code",
   "execution_count": 80,
   "id": "56d26d55",
   "metadata": {},
   "outputs": [
    {
     "ename": "NameError",
     "evalue": "name 'df_dict' is not defined",
     "output_type": "error",
     "traceback": [
      "\u001b[1;31m---------------------------------------------------------------------------\u001b[0m",
      "\u001b[1;31mNameError\u001b[0m                                 Traceback (most recent call last)",
      "Cell \u001b[1;32mIn[80], line 1\u001b[0m\n\u001b[1;32m----> 1\u001b[0m df_dict\n",
      "\u001b[1;31mNameError\u001b[0m: name 'df_dict' is not defined"
     ]
    }
   ],
   "source": [
    "df_dict"
   ]
  },
  {
   "cell_type": "code",
   "execution_count": 81,
   "id": "7fdb0099",
   "metadata": {},
   "outputs": [
    {
     "ename": "NameError",
     "evalue": "name 'df' is not defined",
     "output_type": "error",
     "traceback": [
      "\u001b[1;31m---------------------------------------------------------------------------\u001b[0m",
      "\u001b[1;31mNameError\u001b[0m                                 Traceback (most recent call last)",
      "Cell \u001b[1;32mIn[81], line 3\u001b[0m\n\u001b[0;32m      1\u001b[0m \u001b[38;5;66;03m# we can use index for the Dataframe bu using .index\u001b[39;00m\n\u001b[1;32m----> 3\u001b[0m df\u001b[38;5;241m.\u001b[39mdict\u001b[38;5;241m.\u001b[39mindex\n",
      "\u001b[1;31mNameError\u001b[0m: name 'df' is not defined"
     ]
    }
   ],
   "source": [
    "# we can use index for the Dataframe bu using .index\n",
    "\n",
    "df.dict.index"
   ]
  },
  {
   "cell_type": "code",
   "execution_count": null,
   "id": "18fbd108",
   "metadata": {},
   "outputs": [],
   "source": []
  },
  {
   "cell_type": "code",
   "execution_count": null,
   "id": "44cbdb74",
   "metadata": {},
   "outputs": [],
   "source": []
  },
  {
   "cell_type": "code",
   "execution_count": null,
   "id": "3b5c8430",
   "metadata": {},
   "outputs": [],
   "source": [
    "\n",
    "\n",
    "#pie chart\n",
    "\n",
    "names = ['Faruk', 'Naimat', 'Ajimal', 'Bayo']\n",
    "ages = (50, 14, 40, 60)\n",
    "\n"
   ]
  }
 ],
 "metadata": {
  "kernelspec": {
   "display_name": "Python 3 (ipykernel)",
   "language": "python",
   "name": "python3"
  },
  "language_info": {
   "codemirror_mode": {
    "name": "ipython",
    "version": 3
   },
   "file_extension": ".py",
   "mimetype": "text/x-python",
   "name": "python",
   "nbconvert_exporter": "python",
   "pygments_lexer": "ipython3",
   "version": "3.11.4"
  }
 },
 "nbformat": 4,
 "nbformat_minor": 5
}
